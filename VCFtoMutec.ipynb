{
 "worksheets": [
  {
   "cells": [
    {
     "cell_type": "heading",
     "metadata": {},
     "level": 1,
     "source": [
      "Convert VCF to mutect context for trinucleotide analysis"
     ]
    },
    {
     "cell_type": "heading",
     "metadata": {},
     "level": 4,
     "source": [
      "written by xiuque"
     ]
    },
    {
     "cell_type": "heading",
     "metadata": {},
     "level": 2,
     "source": [
      "Usage"
     ]
    },
    {
     "cell_type": "markdown",
     "metadata": {},
     "source": [
      "You will need to have bedtools in your path\n",
      "You will need to have Hongs' Mutect_context.py script in the same folder\n",
      "\n",
      "VCFtoMutec.py -i infile -o outfile -g <genome_file>\n",
      "\n",
      "\n",
      "supply full path is preferred\n"
     ]
    },
    {
     "cell_type": "heading",
     "metadata": {},
     "level": 2,
     "source": [
      "Dependencies"
     ]
    },
    {
     "cell_type": "code",
     "execution_count": null,
     "metadata": {},
     "outputs": [],
     "input": [
      "#!/usr/bin/env python\n",
      "\n",
      "## to get the context sequences\n",
      "import pybedtools\n",
      "import sys\n",
      "import os\n",
      "from collections import defaultdict\n",
      "\n",
      "# Or whatever you call hong's script\n",
      "import pandas as pd\n",
      "import itertools\n",
      "import argparse"
     ],
     "language": "python"
    },
    {
     "cell_type": "heading",
     "metadata": {},
     "level": 2,
     "source": [
      "Create an object to hold information "
     ]
    },
    {
     "cell_type": "markdown",
     "metadata": {},
     "source": [
      "VariantFileObject is suppose to be a vcf file object that will convert allow conversion of vcf file to other format and vice versa. Now it only has vcf -> bed -> mutec/fasta"
     ]
    },
    {
     "cell_type": "code",
     "execution_count": null,
     "metadata": {},
     "outputs": [],
     "input": [
      "class VariantFileObject(object):\n",
      "    def __init__(self, file_name):\n",
      "        self._filename = file_name\n",
      "        self._variant = []\n",
      "        self._format = \"\"\n",
      "        self.__name__ = os.path.basename(file_name)"
     ],
     "language": "python"
    },
    {
     "cell_type": "heading",
     "metadata": {},
     "level": 3,
     "source": [
      "Class method 1 : Read Vcf and store it as attributes in the object \n",
      "\n"
     ]
    },
    {
     "cell_type": "markdown",
     "metadata": {},
     "source": [
      "Follows the VCF4.1 format. <a href=http://www.1000genomes.org/wiki/Analysis/Variant%20Call%20Format/vcf-variant-call-format-version-41>link</a>"
     ]
    },
    {
     "cell_type": "code",
     "execution_count": null,
     "metadata": {},
     "outputs": [],
     "input": [
      "## read vcf and store the vcf in 2 self._variant and self._position.\n",
      "    # give each snp an id. position is used to find the sequences\n",
      "    # should change this function to be more generic, for instance if line starts with ('#') and not ##, make it the column line \n",
      "    #append all columns into self._variant/\n",
      "    \n",
      "    def readvcf(self):\n",
      "        with open(self._filename) as f:\n",
      "            snp_id = 0\n",
      "            for line in f.readlines():\n",
      "                if not line.startswith(\"#\"):\n",
      "                    line = line.strip()\n",
      "                    fields = line.split('\\t')\n",
      "                    snp_id = snp_id + 1\n",
      "                    self._variant.append([fields[0],int(fields[1]),snp_id,fields[3],fields[4]])\n",
      "                    \n",
      "        self._variant = pd.DataFrame(self._variant, columns=['chr','pos','snp_id','ref','alt'])\n",
      "        self._format = \"vcf\"\n",
      "        print self._variant"
     ],
     "language": "python"
    },
    {
     "cell_type": "heading",
     "metadata": {},
     "level": 4,
     "source": [
      "The VCF is now store as in the VariantFileObject with the attribute : self._variant"
     ]
    },
    {
     "cell_type": "heading",
     "metadata": {},
     "level": 3,
     "source": [
      "Class Method 2 : Drop indels"
     ]
    },
    {
     "cell_type": "markdown",
     "metadata": {},
     "source": [
      "Drop indels based on the variant size "
     ]
    },
    {
     "cell_type": "code",
     "execution_count": null,
     "metadata": {},
     "outputs": [],
     "input": [
      "## function to drop indels for from either vcf or bed formation, might be sueful in the future \n",
      "    def drop_indels(self):\n",
      "        if self._format == \"vcf\":\n",
      "            ## remove anything that has more tahn 2 character in either the ref or the alt\n",
      "            self._variant = self._variant[self._variant.ref.map(len) == 1]\n",
      "            self._variant = self._variant[self._variant.alt.map(len) == 1]\n",
      "        elif self._format == \"bed\":\n",
      "            ## not used now, maybe useful in future\n",
      "            name = self._variant['name']\n",
      "            self._variant.join(name.apply(lambda x: pd.Series(x.split(':'))))\n",
      "            self._variant = self._variant[self._variant.iloc[-1].map(len) == 1]\n",
      "            self._variant = self._variant[self._variant.iloc[-2].map(len) == 1]"
     ],
     "language": "python"
    },
    {
     "cell_type": "heading",
     "metadata": {},
     "level": 3,
     "source": [
      "Class Method 3 : Convert VCF to Bed"
     ]
    },
    {
     "cell_type": "markdown",
     "metadata": {},
     "source": [
      "The name field in a bed file will have its name in the following format \"snp_id,ref,alt\". will including a -2, +4 to the region in the vcf file. VCF file is 1-based : having the 1st based at position 1. bed is 1 based for the starting, having the 1st based at position 1 and 0-based and half open. I should seperate the conversion and the addition of steps seperately "
     ]
    },
    {
     "cell_type": "code",
     "execution_count": null,
     "metadata": {},
     "outputs": [],
     "input": [
      "# convert vcf to bed, wiht each of the fasta header containing information about the vcf\n",
      "    def bedformat(self):\n",
      "        if self._format != \"bed\":\n",
      "            self._variant['start'] = self._variant.pos - 3\n",
      "            self._variant['end'] = self._variant.pos + 3\n",
      "            self._variant['name'] = self._variant.snp_id.map(str) + ';' + self._variant.ref + ';' + self._variant.alt\n",
      "            self._variant = self._variant[['chr','start','end','name']]\n",
      "            self._format = \"bed\""
     ],
     "language": "python"
    },
    {
     "cell_type": "heading",
     "metadata": {},
     "level": 3,
     "source": [
      "Class Method 4 : Write Bedfiles"
     ]
    },
    {
     "cell_type": "markdown",
     "metadata": {},
     "source": [
      "Writes the bedformat to a temporary file. Should replace this in future so that i will not ned to write to the disk. But it is easier this way"
     ]
    },
    {
     "cell_type": "code",
     "execution_count": null,
     "metadata": {},
     "outputs": [],
     "input": [
      "# write bed result to bed file. \n",
      "    def bedtofile(self):\n",
      "        if self._format == \"bed\":\n",
      "            bedfile = \"%s_tmp.ed\" % self._filename\n",
      "            self.bedfile = bedfile\n",
      "            self._variant.to_csv(bedfile, sep='\\t',index=False, header=None)\n",
      "            return bedfile"
     ],
     "language": "python"
    },
    {
     "cell_type": "heading",
     "metadata": {},
     "level": 3,
     "source": [
      "Class Method 5 : Fasta to mutec"
     ]
    },
    {
     "cell_type": "code",
     "execution_count": null,
     "metadata": {},
     "outputs": [],
     "input": [
      "# convert fasta files from bed to muteect\n",
      "    def to_mutect(self, bedtools):\n",
      "        rows = []\n",
      "        columns = [\"snp_id\",\"ref_allele\",\"alt_allele\",\"context\"]\n",
      "        self.out_file = \"%s_mutect.csv\" % self._filename\n",
      "        fh_out = open(self.out_file, 'w+')\n",
      "        fh_out.write('Something is brewing\\n')\n",
      "        os.unlink(self.bedfile)\n",
      "        with open(Bedtools.seqfn) as f:\n",
      "            for header, sequence in itertools.izip_longest(*[f]*2):\n",
      "                header = header.strip()\n",
      "                sequence = sequence.strip()\n",
      "                sequence = sequence[:3] + \"x\" + sequence[3:]\n",
      "                header = header.split(';')\n",
      "                header.append(sequence)\n",
      "                rows.append(header)\n",
      "\n",
      "        df = pd.DataFrame(rows, columns=columns)\n",
      "        df['judgement'] = 'KEEP'\n",
      "        df.to_csv(fh_out, sep='\\t')\n",
      "        fh_out.close()"
     ],
     "language": "python"
    },
    {
     "cell_type": "heading",
     "metadata": {},
     "level": 3,
     "source": [
      "Run Main Function"
     ]
    },
    {
     "cell_type": "code",
     "execution_count": null,
     "metadata": {},
     "outputs": [],
     "input": [
      "if __name__ == '__main__':\n",
      "    \n",
      "    parser = argparse.ArgumentParser()\n",
      "    parser.add_argument(\"-i\", dest=\"inFileName\", required=True,\n",
      "                        help=\"Input Vcf F\")\n",
      "    parser.add_argument(\"-o\", dest=\"outFileName\", required=True,\n",
      "                        help=\"the output file\")\n",
      "    parser.add_argument(\"-v\", dest=\"verbosity\", type=int, default=0,\n",
      "                        help=\"verbosity level 0-2 [default=0]\")\n",
      "    parser.add_argument(\"-g\", dest=\"genome\", required=True, \n",
      "                        help=\"Genome file\")\n",
      "    args = parser.parse_args()\n",
      "    \n",
      "    genome_fasta = args.genome\n",
      "    ## read in vcf file and store it as vcf\n",
      "    VF = VariantFileObject(args.inFileName)\n",
      "    VF.readvcf()\n",
      "    \n",
      "    ## drop indels\n",
      "    VF.drop_indels()\n",
      "    \n",
      "    ## convert to bed and add nucleotide \n",
      "    VF.bedformat()\n",
      "    \n",
      "    ## Use bedtools\n",
      "    Bedtools = pybedtools.BedTool(VF.bedtofile())\n",
      "    Bedtools = Bedtools.sequence(genome_fasta, name=True)\n",
      "    VF.to_mutect(Bedtools)"
     ],
     "language": "python"
    },
    {
     "cell_type": "code",
     "execution_count": null,
     "metadata": {},
     "outputs": [],
     "input": [
      "__author__ = 'quek'"
     ],
     "language": "python"
    }
   ]
  }
 ],
 "cells": [],
 "metadata": {
  "name": "",
  "signature": "sha256:0e25ad2abacc55f27528de7de6ce57c485a3c70f2bee6bc70845ba9dd54c6945"
 },
 "nbformat": 3,
 "nbformat_minor": 0
}